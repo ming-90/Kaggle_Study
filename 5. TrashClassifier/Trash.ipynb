{
  "nbformat": 4,
  "nbformat_minor": 5,
  "metadata": {
    "kernelspec": {
      "display_name": "Python 3 (ipykernel)",
      "language": "python",
      "name": "python3"
    },
    "language_info": {
      "codemirror_mode": {
        "name": "ipython",
        "version": 3
      },
      "file_extension": ".py",
      "mimetype": "text/x-python",
      "name": "python",
      "nbconvert_exporter": "python",
      "pygments_lexer": "ipython3",
      "version": "3.7.7"
    },
    "colab": {
      "name": "TrashClassifier.ipynb",
      "provenance": [],
      "include_colab_link": true
    }
  },
  "cells": [
    {
      "cell_type": "markdown",
      "metadata": {
        "id": "view-in-github",
        "colab_type": "text"
      },
      "source": [
        "<a href=\"https://colab.research.google.com/github/ming-90/Kaggle_Study/blob/main/5.%20TrashClassifier/Trash.ipynb\" target=\"_parent\"><img src=\"https://colab.research.google.com/assets/colab-badge.svg\" alt=\"Open In Colab\"/></a>"
      ]
    },
    {
      "cell_type": "markdown",
      "metadata": {
        "id": "d7ada645-5ee8-4ad5-857e-dc90fa08970a"
      },
      "source": [
        "#[이미지 분류] 수중 해양 쓰레기 종류 분류 모델"
      ],
      "id": "d7ada645-5ee8-4ad5-857e-dc90fa08970a"
    },
    {
      "cell_type": "code",
      "metadata": {
        "id": "Oa3fpHKUJgNl"
      },
      "source": [
        "import drive"
      ],
      "id": "Oa3fpHKUJgNl",
      "execution_count": null,
      "outputs": []
    }
  ]
}