{
  "nbformat": 4,
  "nbformat_minor": 5,
  "metadata": {
    "kernelspec": {
      "display_name": "Python 3 (ipykernel)",
      "language": "python",
      "name": "python3"
    },
    "language_info": {
      "codemirror_mode": {
        "name": "ipython",
        "version": 3
      },
      "file_extension": ".py",
      "mimetype": "text/x-python",
      "name": "python",
      "nbconvert_exporter": "python",
      "pygments_lexer": "ipython3",
      "version": "3.7.7"
    },
    "colab": {
      "name": "Trash.ipynb",
      "provenance": [],
      "collapsed_sections": [],
      "include_colab_link": true
    },
    "accelerator": "GPU",
    "widgets": {
      "application/vnd.jupyter.widget-state+json": {
        "54ccbfc2f2a24aa0bd7841502bce725a": {
          "model_module": "@jupyter-widgets/controls",
          "model_name": "HBoxModel",
          "model_module_version": "1.5.0",
          "state": {
            "_view_name": "HBoxView",
            "_dom_classes": [],
            "_model_name": "HBoxModel",
            "_view_module": "@jupyter-widgets/controls",
            "_model_module_version": "1.5.0",
            "_view_count": null,
            "_view_module_version": "1.5.0",
            "box_style": "",
            "layout": "IPY_MODEL_ff62c9dad65d49e38fee20730e864a78",
            "_model_module": "@jupyter-widgets/controls",
            "children": [
              "IPY_MODEL_94c54666c78b492d9fe4738dd436d4bd",
              "IPY_MODEL_a399e1a1e9af41a883255c305e70562b",
              "IPY_MODEL_8cb461ee1d4d4ff692562507a9be5281"
            ]
          }
        },
        "ff62c9dad65d49e38fee20730e864a78": {
          "model_module": "@jupyter-widgets/base",
          "model_name": "LayoutModel",
          "model_module_version": "1.2.0",
          "state": {
            "_view_name": "LayoutView",
            "grid_template_rows": null,
            "right": null,
            "justify_content": null,
            "_view_module": "@jupyter-widgets/base",
            "overflow": null,
            "_model_module_version": "1.2.0",
            "_view_count": null,
            "flex_flow": null,
            "width": null,
            "min_width": null,
            "border": null,
            "align_items": null,
            "bottom": null,
            "_model_module": "@jupyter-widgets/base",
            "top": null,
            "grid_column": null,
            "overflow_y": null,
            "overflow_x": null,
            "grid_auto_flow": null,
            "grid_area": null,
            "grid_template_columns": null,
            "flex": null,
            "_model_name": "LayoutModel",
            "justify_items": null,
            "grid_row": null,
            "max_height": null,
            "align_content": null,
            "visibility": null,
            "align_self": null,
            "height": null,
            "min_height": null,
            "padding": null,
            "grid_auto_rows": null,
            "grid_gap": null,
            "max_width": null,
            "order": null,
            "_view_module_version": "1.2.0",
            "grid_template_areas": null,
            "object_position": null,
            "object_fit": null,
            "grid_auto_columns": null,
            "margin": null,
            "display": null,
            "left": null
          }
        },
        "94c54666c78b492d9fe4738dd436d4bd": {
          "model_module": "@jupyter-widgets/controls",
          "model_name": "HTMLModel",
          "model_module_version": "1.5.0",
          "state": {
            "_view_name": "HTMLView",
            "style": "IPY_MODEL_8bd1a0622ca64d5689bd8461d9f69429",
            "_dom_classes": [],
            "description": "",
            "_model_name": "HTMLModel",
            "placeholder": "​",
            "_view_module": "@jupyter-widgets/controls",
            "_model_module_version": "1.5.0",
            "value": "100%",
            "_view_count": null,
            "_view_module_version": "1.5.0",
            "description_tooltip": null,
            "_model_module": "@jupyter-widgets/controls",
            "layout": "IPY_MODEL_8085bdb1abab4f33bf06ece3b403d1b2"
          }
        },
        "a399e1a1e9af41a883255c305e70562b": {
          "model_module": "@jupyter-widgets/controls",
          "model_name": "FloatProgressModel",
          "model_module_version": "1.5.0",
          "state": {
            "_view_name": "ProgressView",
            "style": "IPY_MODEL_0c6a11ee1a4840298e20ebe928c0c047",
            "_dom_classes": [],
            "description": "",
            "_model_name": "FloatProgressModel",
            "bar_style": "success",
            "max": 21388428,
            "_view_module": "@jupyter-widgets/controls",
            "_model_module_version": "1.5.0",
            "value": 21388428,
            "_view_count": null,
            "_view_module_version": "1.5.0",
            "orientation": "horizontal",
            "min": 0,
            "description_tooltip": null,
            "_model_module": "@jupyter-widgets/controls",
            "layout": "IPY_MODEL_8327f84dc42f4cc1aca5ebfc64749e2c"
          }
        },
        "8cb461ee1d4d4ff692562507a9be5281": {
          "model_module": "@jupyter-widgets/controls",
          "model_name": "HTMLModel",
          "model_module_version": "1.5.0",
          "state": {
            "_view_name": "HTMLView",
            "style": "IPY_MODEL_be580b676053490693297aebeb998fad",
            "_dom_classes": [],
            "description": "",
            "_model_name": "HTMLModel",
            "placeholder": "​",
            "_view_module": "@jupyter-widgets/controls",
            "_model_module_version": "1.5.0",
            "value": " 20.4M/20.4M [00:00&lt;00:00, 97.8MB/s]",
            "_view_count": null,
            "_view_module_version": "1.5.0",
            "description_tooltip": null,
            "_model_module": "@jupyter-widgets/controls",
            "layout": "IPY_MODEL_6fb3813420ce40fabbadff46543c05ed"
          }
        },
        "8bd1a0622ca64d5689bd8461d9f69429": {
          "model_module": "@jupyter-widgets/controls",
          "model_name": "DescriptionStyleModel",
          "model_module_version": "1.5.0",
          "state": {
            "_view_name": "StyleView",
            "_model_name": "DescriptionStyleModel",
            "description_width": "",
            "_view_module": "@jupyter-widgets/base",
            "_model_module_version": "1.5.0",
            "_view_count": null,
            "_view_module_version": "1.2.0",
            "_model_module": "@jupyter-widgets/controls"
          }
        },
        "8085bdb1abab4f33bf06ece3b403d1b2": {
          "model_module": "@jupyter-widgets/base",
          "model_name": "LayoutModel",
          "model_module_version": "1.2.0",
          "state": {
            "_view_name": "LayoutView",
            "grid_template_rows": null,
            "right": null,
            "justify_content": null,
            "_view_module": "@jupyter-widgets/base",
            "overflow": null,
            "_model_module_version": "1.2.0",
            "_view_count": null,
            "flex_flow": null,
            "width": null,
            "min_width": null,
            "border": null,
            "align_items": null,
            "bottom": null,
            "_model_module": "@jupyter-widgets/base",
            "top": null,
            "grid_column": null,
            "overflow_y": null,
            "overflow_x": null,
            "grid_auto_flow": null,
            "grid_area": null,
            "grid_template_columns": null,
            "flex": null,
            "_model_name": "LayoutModel",
            "justify_items": null,
            "grid_row": null,
            "max_height": null,
            "align_content": null,
            "visibility": null,
            "align_self": null,
            "height": null,
            "min_height": null,
            "padding": null,
            "grid_auto_rows": null,
            "grid_gap": null,
            "max_width": null,
            "order": null,
            "_view_module_version": "1.2.0",
            "grid_template_areas": null,
            "object_position": null,
            "object_fit": null,
            "grid_auto_columns": null,
            "margin": null,
            "display": null,
            "left": null
          }
        },
        "0c6a11ee1a4840298e20ebe928c0c047": {
          "model_module": "@jupyter-widgets/controls",
          "model_name": "ProgressStyleModel",
          "model_module_version": "1.5.0",
          "state": {
            "_view_name": "StyleView",
            "_model_name": "ProgressStyleModel",
            "description_width": "",
            "_view_module": "@jupyter-widgets/base",
            "_model_module_version": "1.5.0",
            "_view_count": null,
            "_view_module_version": "1.2.0",
            "bar_color": null,
            "_model_module": "@jupyter-widgets/controls"
          }
        },
        "8327f84dc42f4cc1aca5ebfc64749e2c": {
          "model_module": "@jupyter-widgets/base",
          "model_name": "LayoutModel",
          "model_module_version": "1.2.0",
          "state": {
            "_view_name": "LayoutView",
            "grid_template_rows": null,
            "right": null,
            "justify_content": null,
            "_view_module": "@jupyter-widgets/base",
            "overflow": null,
            "_model_module_version": "1.2.0",
            "_view_count": null,
            "flex_flow": null,
            "width": null,
            "min_width": null,
            "border": null,
            "align_items": null,
            "bottom": null,
            "_model_module": "@jupyter-widgets/base",
            "top": null,
            "grid_column": null,
            "overflow_y": null,
            "overflow_x": null,
            "grid_auto_flow": null,
            "grid_area": null,
            "grid_template_columns": null,
            "flex": null,
            "_model_name": "LayoutModel",
            "justify_items": null,
            "grid_row": null,
            "max_height": null,
            "align_content": null,
            "visibility": null,
            "align_self": null,
            "height": null,
            "min_height": null,
            "padding": null,
            "grid_auto_rows": null,
            "grid_gap": null,
            "max_width": null,
            "order": null,
            "_view_module_version": "1.2.0",
            "grid_template_areas": null,
            "object_position": null,
            "object_fit": null,
            "grid_auto_columns": null,
            "margin": null,
            "display": null,
            "left": null
          }
        },
        "be580b676053490693297aebeb998fad": {
          "model_module": "@jupyter-widgets/controls",
          "model_name": "DescriptionStyleModel",
          "model_module_version": "1.5.0",
          "state": {
            "_view_name": "StyleView",
            "_model_name": "DescriptionStyleModel",
            "description_width": "",
            "_view_module": "@jupyter-widgets/base",
            "_model_module_version": "1.5.0",
            "_view_count": null,
            "_view_module_version": "1.2.0",
            "_model_module": "@jupyter-widgets/controls"
          }
        },
        "6fb3813420ce40fabbadff46543c05ed": {
          "model_module": "@jupyter-widgets/base",
          "model_name": "LayoutModel",
          "model_module_version": "1.2.0",
          "state": {
            "_view_name": "LayoutView",
            "grid_template_rows": null,
            "right": null,
            "justify_content": null,
            "_view_module": "@jupyter-widgets/base",
            "overflow": null,
            "_model_module_version": "1.2.0",
            "_view_count": null,
            "flex_flow": null,
            "width": null,
            "min_width": null,
            "border": null,
            "align_items": null,
            "bottom": null,
            "_model_module": "@jupyter-widgets/base",
            "top": null,
            "grid_column": null,
            "overflow_y": null,
            "overflow_x": null,
            "grid_auto_flow": null,
            "grid_area": null,
            "grid_template_columns": null,
            "flex": null,
            "_model_name": "LayoutModel",
            "justify_items": null,
            "grid_row": null,
            "max_height": null,
            "align_content": null,
            "visibility": null,
            "align_self": null,
            "height": null,
            "min_height": null,
            "padding": null,
            "grid_auto_rows": null,
            "grid_gap": null,
            "max_width": null,
            "order": null,
            "_view_module_version": "1.2.0",
            "grid_template_areas": null,
            "object_position": null,
            "object_fit": null,
            "grid_auto_columns": null,
            "margin": null,
            "display": null,
            "left": null
          }
        }
      }
    }
  },
  "cells": [
    {
      "cell_type": "markdown",
      "metadata": {
        "id": "view-in-github",
        "colab_type": "text"
      },
      "source": [
        "<a href=\"https://colab.research.google.com/github/ming-90/Kaggle_Study/blob/main/5.%20TrashClassifier/Trash.ipynb\" target=\"_parent\"><img src=\"https://colab.research.google.com/assets/colab-badge.svg\" alt=\"Open In Colab\"/></a>"
      ]
    },
    {
      "cell_type": "markdown",
      "metadata": {
        "id": "d7ada645-5ee8-4ad5-857e-dc90fa08970a"
      },
      "source": [
        "#[이미지 분류] 수중 해양 쓰레기 종류 분류 모델"
      ],
      "id": "d7ada645-5ee8-4ad5-857e-dc90fa08970a"
    },
    {
      "cell_type": "code",
      "metadata": {
        "id": "Oa3fpHKUJgNl",
        "colab": {
          "base_uri": "https://localhost:8080/"
        },
        "outputId": "f39facd0-0b78-479b-c871-e1bf5efb0f7b"
      },
      "source": [
        "from google.colab import drive\n",
        "\n",
        "drive.mount(\"drive\")"
      ],
      "id": "Oa3fpHKUJgNl",
      "execution_count": 1,
      "outputs": [
        {
          "output_type": "stream",
          "name": "stdout",
          "text": [
            "Mounted at drive\n"
          ]
        }
      ]
    },
    {
      "cell_type": "code",
      "metadata": {
        "id": "L0tilKTHK1Bx",
        "colab": {
          "base_uri": "https://localhost:8080/"
        },
        "outputId": "aaa53acc-92f1-4bf0-df67-1c2369db6034"
      },
      "source": [
        "cd /content/drive/MyDrive/Colab\\ Notebooks/Trash"
      ],
      "id": "L0tilKTHK1Bx",
      "execution_count": 2,
      "outputs": [
        {
          "output_type": "stream",
          "name": "stdout",
          "text": [
            "/content/drive/MyDrive/Colab Notebooks/Trash\n"
          ]
        }
      ]
    },
    {
      "cell_type": "code",
      "metadata": {
        "colab": {
          "base_uri": "https://localhost:8080/"
        },
        "id": "GfL2YR2XaO-r",
        "outputId": "6e43d166-2d48-4655-b68b-a59b10590da7"
      },
      "source": [
        "ls"
      ],
      "id": "GfL2YR2XaO-r",
      "execution_count": 3,
      "outputs": [
        {
          "output_type": "stream",
          "name": "stdout",
          "text": [
            "\u001b[0m\u001b[01;34mdata\u001b[0m/  \u001b[01;34mresults\u001b[0m/  Trash.ipynb\n"
          ]
        }
      ]
    },
    {
      "cell_type": "markdown",
      "metadata": {
        "id": "vKywah66g6t-"
      },
      "source": [
        "## 1. 세팅 : 필요한 라이브러리 설치, 학습 로그 생성을 위한 전반적인 셋팅"
      ],
      "id": "vKywah66g6t-"
    },
    {
      "cell_type": "code",
      "metadata": {
        "id": "LcxEAw8GhSo3"
      },
      "source": [
        "import os\n",
        "import copy\n",
        "import sys\n",
        "import random\n",
        "from tqdm import tqdm\n",
        "from datetime import datetime, timezone, timedelta\n",
        "\n",
        "import torch\n",
        "import torch.nn as nn \n",
        "import torch.optim as optim\n",
        "from torch.utils.data import DataLoader\n",
        "from torch.utils.data import Dataset\n",
        "import torchvision.transforms as transforms\n",
        "\n",
        "import numpy as np\n",
        "import pandas as pd\n",
        "\n",
        "import matplotlib.pyplot as plt\n",
        "from sklearn.model_selection import train_test_split\n",
        "from cv2 import cv2\n",
        "from PIL import Image"
      ],
      "id": "LcxEAw8GhSo3",
      "execution_count": 4,
      "outputs": []
    },
    {
      "cell_type": "markdown",
      "metadata": {
        "id": "tK7b1xE9jd8L"
      },
      "source": [
        "### 기타\n",
        " * SEED 고정 : 시드를 고정하여 실행하면 같은 코드를 여러번 실행한 결과에 일관성 부여\n",
        " * device 설정 : GPU를 사용하기 위해"
      ],
      "id": "tK7b1xE9jd8L"
    },
    {
      "cell_type": "code",
      "metadata": {
        "colab": {
          "base_uri": "https://localhost:8080/"
        },
        "id": "UyqLg4CTjwo0",
        "outputId": "605795cd-4c9f-4d05-f37e-659243c567d8"
      },
      "source": [
        "# SEED\n",
        "RANDOM_SEED = 42\n",
        "torch.manual_seed(RANDOM_SEED)\n",
        "torch.backends.cudnn.deterministic = True\n",
        "torch.backends.cudnn.benchmark = False\n",
        "np.random.seed(RANDOM_SEED)\n",
        "random.seed(RANDOM_SEED)\n",
        "\n",
        "# Set Divece\n",
        "os.environ[\"CUDA_VISIBLE_DEVICES\"] = \"0\"\n",
        "device = torch.device('cuda' if torch.cuda.is_available() else 'cpu')\n",
        "print(\"GPU 사용 가능 여부 : \", torch.cuda.is_available())\n",
        "\n",
        "# DEBUG True 설정 시, Performance recorder가 실행 안됨\n",
        "DEBUG = False\n",
        "\n",
        "# 경로 설정\n",
        "PROJECT_DIR = './'\n",
        "ROOT_PROJECT_DIR = os.path.dirname(PROJECT_DIR)\n",
        "DATA_DIR = 'data/'\n",
        "\n",
        "print(\"project directory 경로 존재 여부 : \", os.path.isdir(PROJECT_DIR))\n",
        "print(\"경로\", os.path.isdir(DATA_DIR))"
      ],
      "id": "UyqLg4CTjwo0",
      "execution_count": 5,
      "outputs": [
        {
          "output_type": "stream",
          "name": "stdout",
          "text": [
            "GPU 사용 가능 여부 :  False\n",
            "project directory 경로 존재 여부 :  True\n",
            "경로 True\n"
          ]
        }
      ]
    },
    {
      "cell_type": "markdown",
      "metadata": {
        "id": "8ZDhyGm3l2Bf"
      },
      "source": [
        "### 학습 로그 기록을 위한 Performance recorder 셋팅\n",
        "#### Performance recorder는 학습 결과를 분석하는 데 유용한 여러 정보를 저장."
      ],
      "id": "8ZDhyGm3l2Bf"
    },
    {
      "cell_type": "code",
      "metadata": {
        "id": "BiDD5xL7mGb0"
      },
      "source": [
        "MODEL = \"TrashClassifier\"\n",
        "\n",
        "# 학습 시간에 따라 serial 생성\n",
        "KST = timezone(timedelta(hours=9))\n",
        "TRAIN_TIMESTAMP = datetime.now(tz=KST).strftime(\"%Y%m%d%H%M%S\")\n",
        "TRAIN_SERIAL = f'{MODEL}_{TRAIN_TIMESTAMP}' if DEBUG is not True else ''\n",
        "\n",
        "# 학습 performance 기록 경로 설정\n",
        "PERFORMANCE_RECORD_DIR = os.path.join('results','train', TRAIN_SERIAL)\n",
        "PERFORMANCE_RECORD_COLUMN_NAME_LIST = ['train_serial', 'train_timestamp', 'model_str', 'optimizer_str', \n",
        "                                       'loss_function_str', 'metric_function_str', 'early_stopping_patience', \n",
        "                                       'batch_size', 'epoch', 'learning_rate', 'momentum', 'random_seed', 'epoch_index', \n",
        "                                       'train_loss', 'validation_loss', 'train_score', 'validation_score', 'elapsed_time']"
      ],
      "id": "BiDD5xL7mGb0",
      "execution_count": 6,
      "outputs": []
    },
    {
      "cell_type": "code",
      "metadata": {
        "colab": {
          "base_uri": "https://localhost:8080/",
          "height": 35
        },
        "id": "JXx0weUDoncf",
        "outputId": "6014833b-dd14-44f3-a9af-d77d597adcbb"
      },
      "source": [
        "# 학습 결과 저장할 폴더 만들기\n",
        "\n",
        "def make_directory(directory: str) -> str:\n",
        "    try:\n",
        "        if not os.path.isdir(directory):\n",
        "            os.makedirs(directory)\n",
        "            msg = f'Directory created {directory}'\n",
        "        else:\n",
        "            msg = f'{directory} already exists'\n",
        "    except OSError as e:\n",
        "        mas = f'Fail to create directory {directory} {e}'\n",
        "        \n",
        "    return msg\n",
        "make_directory(PERFORMANCE_RECORD_DIR)"
      ],
      "id": "JXx0weUDoncf",
      "execution_count": 7,
      "outputs": [
        {
          "output_type": "execute_result",
          "data": {
            "application/vnd.google.colaboratory.intrinsic+json": {
              "type": "string"
            },
            "text/plain": [
              "'Directory created results/train/TrashClassifier_20211116215450'"
            ]
          },
          "metadata": {},
          "execution_count": 7
        }
      ]
    },
    {
      "cell_type": "code",
      "metadata": {
        "id": "e_02dO3RotfL"
      },
      "source": [
        "import logging\n",
        "\n",
        "def get_logger(name: str, file_path: str, stream=False) -> logging.RootLogger:\n",
        "    logger = logging.getLogger(name)\n",
        "    logger.setLevel(logging.INFO)\n",
        "\n",
        "    formatter = logging.Formatter(\"%(asctime)s | %(name)s | %(levelname)s | %(message)s\")\n",
        "    stream_handler = logging.StreamHandler()\n",
        "    file_handler = logging.FileHandler(file_path)\n",
        "\n",
        "    stream_handler.setFormatter(formatter)\n",
        "    file_handler.setFormatter(formatter)\n",
        "\n",
        "    if stream:\n",
        "        logger.addHandler(stream_handler)\n",
        "    logger.addHandler(file_handler)\n",
        "\n",
        "    return logger\n",
        "\n",
        "system_logger = get_logger(name='train', file_path=os.path.join(PERFORMANCE_RECORD_DIR, 'train_log.log'))"
      ],
      "id": "e_02dO3RotfL",
      "execution_count": 8,
      "outputs": []
    },
    {
      "cell_type": "markdown",
      "metadata": {
        "id": "GC7Ye-u4qX9B"
      },
      "source": [
        "## 2. EDA\n",
        "#### pandas 라이브러리를 이용해 데이터 확인"
      ],
      "id": "GC7Ye-u4qX9B"
    },
    {
      "cell_type": "code",
      "metadata": {
        "colab": {
          "base_uri": "https://localhost:8080/"
        },
        "id": "Wb_AG09HqiYC",
        "outputId": "adf7a882-c05b-457e-99ef-6b3bc5ecefd1"
      },
      "source": [
        "img = os.listdir(os.path.join(DATA_DIR, 'train', 'images'))\n",
        "print(\"이미지 갯수 : \", len(img))"
      ],
      "id": "Wb_AG09HqiYC",
      "execution_count": 9,
      "outputs": [
        {
          "output_type": "stream",
          "name": "stdout",
          "text": [
            "이미지 갯수 :  7187\n"
          ]
        }
      ]
    },
    {
      "cell_type": "markdown",
      "metadata": {
        "id": "ZRykEjrNrhiG"
      },
      "source": [
        " * 이미지 샘플 확인"
      ],
      "id": "ZRykEjrNrhiG"
    },
    {
      "cell_type": "code",
      "metadata": {
        "colab": {
          "base_uri": "https://localhost:8080/",
          "height": 258
        },
        "id": "7WP7fsXtq_N-",
        "outputId": "05c15540-47bc-484e-ae29-09692d97e684"
      },
      "source": [
        "\n",
        "sampleImage = os.path.join(DATA_DIR, 'train', 'images', img[4])\n",
        "\n",
        "def getImg(path):\n",
        "    bgr_image = cv2.imread(path)\n",
        "    rgb_image = cv2.cvtColor(bgr_image, cv2.COLOR_BGR2RGB)\n",
        "    return rgb_image\n",
        "\n",
        "sampleImage = getImg(sampleImage)\n",
        "plt.imshow(sampleImage)"
      ],
      "id": "7WP7fsXtq_N-",
      "execution_count": 10,
      "outputs": [
        {
          "output_type": "execute_result",
          "data": {
            "text/plain": [
              "<matplotlib.image.AxesImage at 0x7f90b77a5b10>"
            ]
          },
          "metadata": {},
          "execution_count": 10
        },
        {
          "output_type": "display_data",
          "data": {
            "image/png": "[encoded data removed]",
            "text/plain": [
              "<Figure size 432x288 with 1 Axes>"
            ]
          },
          "metadata": {
            "needs_background": "light"
          }
        }
      ]
    },
    {
      "cell_type": "markdown",
      "metadata": {
        "id": "W7lvilmJrnG0"
      },
      "source": [
        " * train.csv 확인"
      ],
      "id": "W7lvilmJrnG0"
    },
    {
      "cell_type": "code",
      "metadata": {
        "colab": {
          "base_uri": "https://localhost:8080/",
          "height": 359
        },
        "id": "rRZQ7dr-rql9",
        "outputId": "3c0198ef-4cfe-4ba6-b4d5-27d617634b32"
      },
      "source": [
        "train_csv = pd.read_csv(os.path.join(DATA_DIR, 'train', 'train.csv'))\n",
        "train_csv.sample(n=10)"
      ],
      "id": "rRZQ7dr-rql9",
      "execution_count": 11,
      "outputs": [
        {
          "output_type": "execute_result",
          "data": {
            "text/html": [
              "<div>\n",
              "<style scoped>\n",
              "    .dataframe tbody tr th:only-of-type {\n",
              "        vertical-align: middle;\n",
              "    }\n",
              "\n",
              "    .dataframe tbody tr th {\n",
              "        vertical-align: top;\n",
              "    }\n",
              "\n",
              "    .dataframe thead th {\n",
              "        text-align: right;\n",
              "    }\n",
              "</style>\n",
              "<table border=\"1\" class=\"dataframe\">\n",
              "  <thead>\n",
              "    <tr style=\"text-align: right;\">\n",
              "      <th></th>\n",
              "      <th>file_name</th>\n",
              "      <th>category</th>\n",
              "    </tr>\n",
              "  </thead>\n",
              "  <tbody>\n",
              "    <tr>\n",
              "      <th>3337</th>\n",
              "      <td>vtxLmGV8dPf3KUb.jpg</td>\n",
              "      <td>spring fish trap</td>\n",
              "    </tr>\n",
              "    <tr>\n",
              "      <th>5144</th>\n",
              "      <td>v9SWyDCGOpW3lqf.jpg</td>\n",
              "      <td>tire</td>\n",
              "    </tr>\n",
              "    <tr>\n",
              "      <th>5062</th>\n",
              "      <td>gSBCKH1rVeUYn1I.jpg</td>\n",
              "      <td>tire</td>\n",
              "    </tr>\n",
              "    <tr>\n",
              "      <th>4417</th>\n",
              "      <td>SWXiPp4ukSMPEdM.jpg</td>\n",
              "      <td>tire</td>\n",
              "    </tr>\n",
              "    <tr>\n",
              "      <th>1615</th>\n",
              "      <td>gbhPLXw0w6ZUU6y.jpg</td>\n",
              "      <td>eel fish trap</td>\n",
              "    </tr>\n",
              "    <tr>\n",
              "      <th>5428</th>\n",
              "      <td>jAylYCIW9whyMTD.jpg</td>\n",
              "      <td>tire</td>\n",
              "    </tr>\n",
              "    <tr>\n",
              "      <th>6188</th>\n",
              "      <td>vXjxnx2J6ZMiLFA.jpg</td>\n",
              "      <td>wood</td>\n",
              "    </tr>\n",
              "    <tr>\n",
              "      <th>132</th>\n",
              "      <td>wQXxgICDBdSZSvK.jpg</td>\n",
              "      <td>bundle of ropes</td>\n",
              "    </tr>\n",
              "    <tr>\n",
              "      <th>308</th>\n",
              "      <td>XbXr5IrY7PPSiNY.jpg</td>\n",
              "      <td>bundle of ropes</td>\n",
              "    </tr>\n",
              "    <tr>\n",
              "      <th>5160</th>\n",
              "      <td>ecoX69b9WETIpPW.jpg</td>\n",
              "      <td>tire</td>\n",
              "    </tr>\n",
              "  </tbody>\n",
              "</table>\n",
              "</div>"
            ],
            "text/plain": [
              "                file_name          category\n",
              "3337  vtxLmGV8dPf3KUb.jpg  spring fish trap\n",
              "5144  v9SWyDCGOpW3lqf.jpg              tire\n",
              "5062  gSBCKH1rVeUYn1I.jpg              tire\n",
              "4417  SWXiPp4ukSMPEdM.jpg              tire\n",
              "1615  gbhPLXw0w6ZUU6y.jpg     eel fish trap\n",
              "5428  jAylYCIW9whyMTD.jpg              tire\n",
              "6188  vXjxnx2J6ZMiLFA.jpg              wood\n",
              "132   wQXxgICDBdSZSvK.jpg   bundle of ropes\n",
              "308   XbXr5IrY7PPSiNY.jpg   bundle of ropes\n",
              "5160  ecoX69b9WETIpPW.jpg              tire"
            ]
          },
          "metadata": {},
          "execution_count": 11
        }
      ]
    },
    {
      "cell_type": "markdown",
      "metadata": {
        "id": "ImDsQJ1Er4kz"
      },
      "source": [
        " * 학습 데이터의 쓰레기 분류 분포"
      ],
      "id": "ImDsQJ1Er4kz"
    },
    {
      "cell_type": "code",
      "metadata": {
        "colab": {
          "base_uri": "https://localhost:8080/",
          "height": 390
        },
        "id": "aJT3Ydl1r8hB",
        "outputId": "ce354724-a354-448e-f5f0-92de982dcdf9"
      },
      "source": [
        "train_csv.groupby('category').count()"
      ],
      "id": "aJT3Ydl1r8hB",
      "execution_count": 12,
      "outputs": [
        {
          "output_type": "execute_result",
          "data": {
            "text/html": [
              "<div>\n",
              "<style scoped>\n",
              "    .dataframe tbody tr th:only-of-type {\n",
              "        vertical-align: middle;\n",
              "    }\n",
              "\n",
              "    .dataframe tbody tr th {\n",
              "        vertical-align: top;\n",
              "    }\n",
              "\n",
              "    .dataframe thead th {\n",
              "        text-align: right;\n",
              "    }\n",
              "</style>\n",
              "<table border=\"1\" class=\"dataframe\">\n",
              "  <thead>\n",
              "    <tr style=\"text-align: right;\">\n",
              "      <th></th>\n",
              "      <th>file_name</th>\n",
              "    </tr>\n",
              "    <tr>\n",
              "      <th>category</th>\n",
              "      <th></th>\n",
              "    </tr>\n",
              "  </thead>\n",
              "  <tbody>\n",
              "    <tr>\n",
              "      <th>bundle of ropes</th>\n",
              "      <td>417</td>\n",
              "    </tr>\n",
              "    <tr>\n",
              "      <th>circular fish trap</th>\n",
              "      <td>807</td>\n",
              "    </tr>\n",
              "    <tr>\n",
              "      <th>eel fish trap</th>\n",
              "      <td>401</td>\n",
              "    </tr>\n",
              "    <tr>\n",
              "      <th>fish net</th>\n",
              "      <td>564</td>\n",
              "    </tr>\n",
              "    <tr>\n",
              "      <th>other objects</th>\n",
              "      <td>7</td>\n",
              "    </tr>\n",
              "    <tr>\n",
              "      <th>rectangular fish trap</th>\n",
              "      <td>180</td>\n",
              "    </tr>\n",
              "    <tr>\n",
              "      <th>rope</th>\n",
              "      <td>429</td>\n",
              "    </tr>\n",
              "    <tr>\n",
              "      <th>spring fish trap</th>\n",
              "      <td>925</td>\n",
              "    </tr>\n",
              "    <tr>\n",
              "      <th>tire</th>\n",
              "      <td>1836</td>\n",
              "    </tr>\n",
              "    <tr>\n",
              "      <th>wood</th>\n",
              "      <td>1621</td>\n",
              "    </tr>\n",
              "  </tbody>\n",
              "</table>\n",
              "</div>"
            ],
            "text/plain": [
              "                       file_name\n",
              "category                        \n",
              "bundle of ropes              417\n",
              "circular fish trap           807\n",
              "eel fish trap                401\n",
              "fish net                     564\n",
              "other objects                  7\n",
              "rectangular fish trap        180\n",
              "rope                         429\n",
              "spring fish trap             925\n",
              "tire                        1836\n",
              "wood                        1621"
            ]
          },
          "metadata": {},
          "execution_count": 12
        }
      ]
    },
    {
      "cell_type": "markdown",
      "metadata": {
        "id": "cLUjlQjOsDG5"
      },
      "source": [
        " * 카테고리 딕셔너리 생성"
      ],
      "id": "cLUjlQjOsDG5"
    },
    {
      "cell_type": "code",
      "metadata": {
        "colab": {
          "base_uri": "https://localhost:8080/"
        },
        "id": "TaLLTgU2sFig",
        "outputId": "5456f881-eac2-49f9-c5d4-206733660a67"
      },
      "source": [
        "category_list = train_csv['category'].unique()\n",
        "category = {}\n",
        "for i in range(len(category_list)):\n",
        "    category[category_list[i]] = i\n",
        "\n",
        "print(category)\n",
        "print(category.keys())"
      ],
      "id": "TaLLTgU2sFig",
      "execution_count": 13,
      "outputs": [
        {
          "output_type": "stream",
          "name": "stdout",
          "text": [
            "{'bundle of ropes': 0, 'circular fish trap': 1, 'eel fish trap': 2, 'rope': 3, 'fish net': 4, 'other objects': 5, 'rectangular fish trap': 6, 'tire': 7, 'spring fish trap': 8, 'wood': 9}\n",
            "dict_keys(['bundle of ropes', 'circular fish trap', 'eel fish trap', 'rope', 'fish net', 'other objects', 'rectangular fish trap', 'tire', 'spring fish trap', 'wood'])\n"
          ]
        }
      ]
    },
    {
      "cell_type": "markdown",
      "metadata": {
        "id": "8jGsh3JuvjjZ"
      },
      "source": [
        "### 데이터 전처리 방법\n",
        "#### 해당 데이터에는 전처리가 적용된 이미지이지만 전처리 방법 소개\n",
        " * resize : 이미지 파일의 크기가 너무 커서 학습 시간이 오래 걸리거나, 각 이미지 파일의 크기가 다른 점을 보정하기 위해 지정된 규격으로 이미지 크기 통일\n",
        " * interpolation : 이미지의 비율을 변경할 때 존재하지 않는 영역에 새로운 픽셀 값을 매핑하거나, 존재하는 픽셀들을 압축하여 새로운 값을 할당. 새로운 픽셀 값은 interpolation(보간법)을 이용하여 구함.\n",
        " "
      ],
      "id": "8jGsh3JuvjjZ"
    },
    {
      "cell_type": "markdown",
      "metadata": {
        "id": "fPeASVAdzPt9"
      },
      "source": [
        "## 3. 데이터 로드\n",
        "### 사용할 파라미터\n",
        " * BATCH_SIZE : 모델에 입력할 데이터의 단위. 전체 데이터 셋을 여러개의 소그룹으로 나누어 학습하게 되는데, batch size는 하나의 소그룹에 속하는 데이터 수가 된다"
      ],
      "id": "fPeASVAdzPt9"
    },
    {
      "cell_type": "code",
      "metadata": {
        "id": "3bSlmOvlRwse"
      },
      "source": [
        "# 데이터 로드 파라미터\n",
        "BATCH_SIZE = 128\n",
        "INPUT_SHAPE = (128, 128)\n",
        "\n",
        "# train, validation 비율\n",
        "VAL_RATIO = 0.2"
      ],
      "id": "3bSlmOvlRwse",
      "execution_count": 14,
      "outputs": []
    },
    {
      "cell_type": "code",
      "metadata": {
        "colab": {
          "base_uri": "https://localhost:8080/"
        },
        "id": "JeLIsxeaR9bK",
        "outputId": "4653a3bd-f41e-4a90-bba7-ec4e9805425a"
      },
      "source": [
        "class CustomDataset(Dataset):\n",
        "    def __init__(self, data_dir, mode, input_shape):\n",
        "        self.data_dir = os.path.join(data_dir, 'train')\n",
        "        self.mode = mode\n",
        "        self.input_shape = input_shape\n",
        "        self.db = self.data_loader()\n",
        "        self.transform = transforms.Compose([transforms.Resize(self.input_shape), transforms.ToTensor(), transforms.Normalize([0.485, 0.456, 0.406], [0.229, 0.224, 0.225])]) \n",
        "        self.class_num = len(self.db['label'].unique())\n",
        "\n",
        "    def data_loader(self):\n",
        "        print(\"Loading \" + self.mode + \" dataset...\")\n",
        "\n",
        "        img_dir = os.path.join(self.data_dir, 'images')\n",
        "        label_dir = os.path.join(self.data_dir, 'train.csv')\n",
        "\n",
        "        #이미지 폴더 존재 여부 체크\n",
        "        if not os.path.isdir(img_dir):\n",
        "            print(f'!!! Cannot find {img_dir} !!!')\n",
        "            sys.exit()\n",
        "\n",
        "        #라벨 파일 존재 여부 체크\n",
        "        if not os.path.lexists(label_dir):\n",
        "            print(f'!!! Cannot find {label_dir} !!!')\n",
        "            sys.exit()\n",
        "\n",
        "        category_ls = list(category.keys())\n",
        "\n",
        "        # train.csv를 pandas로 불러오기\n",
        "        df = train_csv\n",
        "\n",
        "        # return할 train, val 데이터 초기화\n",
        "        db_train = db_val = pd.DataFrame(columns=['img_path','label'])\n",
        "\n",
        "        # 카테고리별로 train/val 비율 맞춰 나누기 위해 카테고리별로 루프 실행\n",
        "        for cat in category_ls:\n",
        "            img_path_list = []\n",
        "            img_label_list = []\n",
        "\n",
        "            # 특정 카테고리에 해당하는 이미지 리스트 뽑기\n",
        "            img_list = df['file_name'].loc[df['category']==cat].values\n",
        "\n",
        "            for filename in img_list:\n",
        "                if os.path.lexists(os.path.join(img_dir, filename)):\n",
        "                    img_path_list.append(os.path.join(img_dir, filename))\n",
        "                    img_label_list.append(category[cat])\n",
        "            \n",
        "            db = pd.DataFrame({'img_path': img_path_list, 'label':img_label_list})\n",
        "\n",
        "            # 학습, 검증 셋 나누기\n",
        "            train, val = train_test_split(db, test_size=VAL_RATIO, random_state=42, shuffle=True)\n",
        "\n",
        "            db_train = pd.concat([db_train, train])\n",
        "            db_val = pd.concat([db_val, val])\n",
        "\n",
        "        db_train = db_train.sample(frac=1).reset_index(drop=True)\n",
        "        db_val = db_val.sample(frac=1).reset_index(drop=True)\n",
        "\n",
        "        if self.mode == 'train':\n",
        "            db = db_train\n",
        "        elif self.mode == 'val':\n",
        "            db = db_train\n",
        "        else:\n",
        "            print('check your mode : ')\n",
        "        \n",
        "        print(db.head())\n",
        "        return db\n",
        "\n",
        "    def __len__(self):\n",
        "        return len(self.db)\n",
        "    \n",
        "    def __getitem__(self, index):\n",
        "        data = copy.deepcopy(self.db.loc[index])\n",
        "\n",
        "        #1. load image\n",
        "        cvimg = cv2.imread(data['img_path'], cv2.IMREAD_COLOR | cv2.IMREAD_IGNORE_ORIENTATION)\n",
        "        if not isinstance(cvimg, np.ndarray):\n",
        "            raise IOError(\"Fail to read %s\" % data['img_path'])\n",
        "        \n",
        "        #2. preprocessing imges\n",
        "        trans_imge = self.transform(Imgae.fromarray(cvimg))\n",
        "        return trans_image, data['label']\n",
        "\n",
        "\n",
        "\n",
        "train_dataset = CustomDataset(data_dir=DATA_DIR, mode='train', input_shape=INPUT_SHAPE)\n",
        "validation_dataset = CustomDataset(data_dir=DATA_DIR, mode='val', input_shape=INPUT_SHAPE)\n",
        "\n",
        "train_dataloader = DataLoader(train_dataset, batch_size=BATCH_SIZE, shuffle=True)\n",
        "validation_dataloader = DataLoader(validation_dataset, batch_size=BATCH_SIZE, shuffle=True)"
      ],
      "id": "JeLIsxeaR9bK",
      "execution_count": 18,
      "outputs": [
        {
          "output_type": "stream",
          "name": "stdout",
          "text": [
            "Loading train dataset...\n",
            "                                img_path label\n",
            "0  data/train/images/30NeZHMrB1TuXTK.jpg     1\n",
            "1  data/train/images/UHFcebDE9H0LDpL.jpg     8\n",
            "2  data/train/images/KmwfNBRy9b1LDMu.jpg     0\n",
            "3  data/train/images/gSBCKH1rVeUYn1I.jpg     7\n",
            "4  data/train/images/Egt2dL41HvB2tlY.jpg     7\n",
            "Loading val dataset...\n",
            "                                img_path label\n",
            "0  data/train/images/TAPlGYffGUu6SDz.jpg     8\n",
            "1  data/train/images/nKKsD9BHH2qpV44.jpg     8\n",
            "2  data/train/images/5SjnoCgbxbvotGX.jpg     8\n",
            "3  data/train/images/2rjHYWJs0JBCJHw.jpg     1\n",
            "4  data/train/images/phCKGiezC9BeyjN.jpg     4\n"
          ]
        }
      ]
    },
    {
      "cell_type": "markdown",
      "metadata": {
        "id": "1NOULPgHsM9W"
      },
      "source": [
        "### 모델 설계 / pretrained model 불러오기\n",
        "#### 사용할 파라미터\n",
        " * LEARNING_RATE : \n",
        "  * 경사하강법을 통해 loss function의 minimum 값을 찾아다닐 때, 그 탐색 과정에 있어서의 보폭\n",
        " * EPOCHS : \n",
        "  * 한번의 epoch는 인공 신경망에서 전체 데이터 셋에 대해 forward pass / backward pass 과정을 거친 것\n",
        "  * epoch가 1만큼 지나면, 전체 데이터 셋에 대해 한번의 학습이 완료 된것\n",
        "  * 모델을 만들 때 적절한 epoch 값을 설정 해야만 underfitting 과 overfitting을 방지\n",
        " * EARLY_STOPPING_PATIENCE : \n",
        "  * 너무 많은 epoch는 overfitting을 일으키고 너무 적은  epoch는 underfitting을 일으키므로 특정 시점에 학습을 멈추는 방법이 early stopping\n",
        "  * 해당 변수는 validation score 가 개선되지 않아도 학습을 몇 에폭 더 진행할지 결정.\n",
        " * WEIGHT_DECAY : \n",
        "  * orverfitting을 억제하는 학습 기법의 하나로, 학습된 모델의 복잡도를 줄이기 위해서 학습 중  weight가 너무 큰 값을 가지지 않도록 Loss function에 Weight가 커질 경우에 대한 패널티 항목을 넣는다"
      ],
      "id": "1NOULPgHsM9W"
    },
    {
      "cell_type": "code",
      "metadata": {
        "id": "aCovA3XBvKz6"
      },
      "source": [
        "# hyper-parameters\n",
        "LEARNING_RATE = 0.0005\n",
        "EPOCHS = 10\n",
        "\n",
        "EARLY_STOPPING_PATIENCE = 10\n",
        "WEIGHT_DECAY = 0.00001\n",
        "\n",
        "OPTIMIZER = ''\n",
        "SCHEDULER = ''\n",
        "MOMENTUM = ''\n",
        "LOSS_FN = ''\n",
        "METRIC_FN = ''"
      ],
      "id": "aCovA3XBvKz6",
      "execution_count": 30,
      "outputs": []
    },
    {
      "cell_type": "code",
      "metadata": {
        "colab": {
          "base_uri": "https://localhost:8080/"
        },
        "id": "lpbNHiZP8_Ul",
        "outputId": "c797ecfd-4d52-46f4-93f2-9e052edc9cc4"
      },
      "source": [
        "!pip install efficientnet_pytorch"
      ],
      "id": "lpbNHiZP8_Ul",
      "execution_count": 24,
      "outputs": [
        {
          "output_type": "stream",
          "name": "stdout",
          "text": [
            "Collecting efficientnet_pytorch\n",
            "  Downloading efficientnet_pytorch-0.7.1.tar.gz (21 kB)\n",
            "Requirement already satisfied: torch in /usr/local/lib/python3.7/dist-packages (from efficientnet_pytorch) (1.10.0+cu111)\n",
            "Requirement already satisfied: typing-extensions in /usr/local/lib/python3.7/dist-packages (from torch->efficientnet_pytorch) (3.10.0.2)\n",
            "Building wheels for collected packages: efficientnet-pytorch\n",
            "  Building wheel for efficientnet-pytorch (setup.py) ... \u001b[?25l\u001b[?25hdone\n",
            "  Created wheel for efficientnet-pytorch: filename=efficientnet_pytorch-0.7.1-py3-none-any.whl size=16446 sha256=9831d18965b79853ebda9d144ba8888cbe43e4faf875201231f5dae0948ff500\n",
            "  Stored in directory: /root/.cache/pip/wheels/0e/cc/b2/49e74588263573ff778da58cc99b9c6349b496636a7e165be6\n",
            "Successfully built efficientnet-pytorch\n",
            "Installing collected packages: efficientnet-pytorch\n",
            "Successfully installed efficientnet-pytorch-0.7.1\n"
          ]
        }
      ]
    },
    {
      "cell_type": "code",
      "metadata": {
        "colab": {
          "base_uri": "https://localhost:8080/",
          "height": 105,
          "referenced_widgets": [
            "54ccbfc2f2a24aa0bd7841502bce725a",
            "ff62c9dad65d49e38fee20730e864a78",
            "94c54666c78b492d9fe4738dd436d4bd",
            "a399e1a1e9af41a883255c305e70562b",
            "8cb461ee1d4d4ff692562507a9be5281",
            "8bd1a0622ca64d5689bd8461d9f69429",
            "8085bdb1abab4f33bf06ece3b403d1b2",
            "0c6a11ee1a4840298e20ebe928c0c047",
            "8327f84dc42f4cc1aca5ebfc64749e2c",
            "be580b676053490693297aebeb998fad",
            "6fb3813420ce40fabbadff46543c05ed"
          ]
        },
        "id": "HwqGvVyh6oB-",
        "outputId": "4162fb99-7606-4b5e-dabc-4cb8d6450765"
      },
      "source": [
        "import torch\n",
        "from torch import nn\n",
        "from torch.nn import functional as F\n",
        "from efficientnet_pytorch import EfficientNet\n",
        "\n",
        "class TrashClassifier(nn.Module):\n",
        "    def __init__(self, num_class):\n",
        "        super(TrashClassifier, self).__init__()\n",
        "        self.model = EfficientNet.from_pretrained('efficientnet-b0', num_classes=num_class)\n",
        "        self.softmax = nn.Softmax(dim=1)\n",
        "\n",
        "    def forward(self, input_img):\n",
        "        x = self.model(input_img)\n",
        "        x = self.softmax(x)\n",
        "        return x\n",
        "\n",
        "# 모델 생성\n",
        "model = TrashClassifier(num_class=train_dataset.class_num).to(device)"
      ],
      "id": "HwqGvVyh6oB-",
      "execution_count": 26,
      "outputs": [
        {
          "output_type": "stream",
          "name": "stderr",
          "text": [
            "Downloading: \"https://github.com/lukemelas/EfficientNet-PyTorch/releases/download/1.0/efficientnet-b0-355c32eb.pth\" to /root/.cache/torch/hub/checkpoints/efficientnet-b0-355c32eb.pth\n"
          ]
        },
        {
          "output_type": "display_data",
          "data": {
            "application/vnd.jupyter.widget-view+json": {
              "model_id": "54ccbfc2f2a24aa0bd7841502bce725a",
              "version_minor": 0,
              "version_major": 2
            },
            "text/plain": [
              "  0%|          | 0.00/20.4M [00:00<?, ?B/s]"
            ]
          },
          "metadata": {}
        },
        {
          "output_type": "stream",
          "name": "stdout",
          "text": [
            "Loaded pretrained weights for efficientnet-b0\n"
          ]
        }
      ]
    },
    {
      "cell_type": "markdown",
      "metadata": {
        "id": "GllswWFC9SYR"
      },
      "source": [
        "### 학습에 필요한 함수 설정\n",
        " * optimizer : \n",
        "  * 손실함수 값이 최소가 되는 부분을 찾기 위해 학습율과 기울기를 다양하게 수정하여 가중치를 변경시키는 것을 최적화라 하고, 최적화의 다양한 방식들을 옵티마이저라 한다.\n",
        " * scheduler : \n",
        "  * Learning rate scheduler는 미리 학습 일정을 정해두고, 그 일정에 따라 학습률을 조정하게 한다. 다시말해 Learning rate가 어떻게 변화하게 할지 정한다\n",
        " * metric_fn : \n",
        "  * 학습에서 평가지표(metric)는 validation에서 훈련된 모델이 얼마나 잘 학습되고 있는지 확인하며, 훈련 과정을 모니터링 하는데 사용"
      ],
      "id": "GllswWFC9SYR"
    },
    {
      "cell_type": "code",
      "metadata": {
        "id": "I3kzoZ_Y-R3l"
      },
      "source": [
        "import sklearn.metrics as metrics\n",
        "\n",
        "def get_metric_fn(y_pred, y_answer, y_prod):\n",
        "    assert len(y_pred) == len(y_answer), 'The size of prediction and answer are not same.'\n",
        "    f1 = metrics.f1_score(y_answer, y_pred, average=\"macro\")\n",
        "    return f1, 1\n",
        "\n",
        "optimizer = optim.Adam(model.parameters(), lr=LEARNING_RATE, weight_decay=WEIGHT_DECAY)\n",
        "scheduler = optim.lr_scheduler.OneCycleLR(optimizer=optimizer, pct_start=0.1, div_factor=1e5, max_lr=0.0001, epochs=EPOCHS, steps_per_epoch=len(train_dataloader))\n",
        "criterion = nn.CrossEntropyLoss()\n",
        "metric_fn = get_metric_fn"
      ],
      "id": "I3kzoZ_Y-R3l",
      "execution_count": 31,
      "outputs": []
    },
    {
      "cell_type": "markdown",
      "metadata": {
        "id": "SMIB3-e-CRtO"
      },
      "source": [
        "### Trainer 설정\n",
        " * epoch 별 학습/검증 절차를 정의"
      ],
      "id": "SMIB3-e-CRtO"
    },
    {
      "cell_type": "code",
      "metadata": {
        "id": "dYZFh_D2Cj5c"
      },
      "source": [
        "import tqdm\n",
        "\n",
        "class Trainer():\n",
        "    def __init__(self, criterion, model, device, metric_fn, optimizer=None, scheduler=None, logger=None):\n",
        "        self.criterion = criterion\n",
        "        self.model = model\n",
        "        self.device = device\n",
        "        self.optimizer = optimizer\n",
        "        self.logger = logger\n",
        "        self.scheduler = scheduler\n",
        "        self.metric_fn = metric_fn\n",
        "\n",
        "    def train_epoch(self, dataloader, epoch_index):\n",
        "        #한 epoch에서 수행되는 학습 절차\n",
        "        "
      ],
      "id": "dYZFh_D2Cj5c",
      "execution_count": null,
      "outputs": []
    }
  ]
}